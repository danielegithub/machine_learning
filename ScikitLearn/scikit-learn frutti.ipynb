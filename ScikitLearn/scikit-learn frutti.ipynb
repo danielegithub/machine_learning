{
 "cells": [
  {
   "cell_type": "markdown",
   "metadata": {},
   "source": [
    "# Riassunto:\n",
    "- X sono i dati senza la colonna target, e y è la colonna target (quello che vogliamo predire).\n",
    "-  Dividiamo i dati in training set (per addestrare il modello) e test set (per testare -  quanto il modello è bravo).\n",
    "- Alleniamo il modello con fit.\n",
    "- Facciamo previsioni con predict.\n",
    "- Valutiamo quanto bene il modello ha imparato con score."
   ]
  },
  {
   "cell_type": "code",
   "execution_count": 10,
   "metadata": {},
   "outputs": [
    {
     "name": "stdout",
     "output_type": "stream",
     "text": [
      "Il dataset dei frutti:\n",
      "    Colore      Forma  Frutto\n",
      "0   Rosso      Tonda    Mela\n",
      "1  Giallo  Allungata  Banana\n",
      "2   Rosso      Tonda    Mela\n",
      "3  Giallo      Tonda    Mela\n",
      "4  Giallo  Allungata  Banana\n",
      "5   Rosso  Allungata    Mela\n",
      "6  Giallo  Allungata  Banana\n",
      "7   Rosso      Tonda    Mela\n",
      "8  Giallo      Tonda    Mela\n",
      "9  Giallo  Allungata  Banana\n"
     ]
    }
   ],
   "source": [
    "import pandas as pd\n",
    "from sklearn.model_selection import train_test_split\n",
    "\n",
    "# 2. Creiamo un piccolo dataset di esempio con i frutti\n",
    "data = {\n",
    "    \"Colore\": [\"Rosso\", \"Giallo\", \"Rosso\", \"Giallo\", \"Giallo\", \"Rosso\", \"Giallo\", \"Rosso\", \"Giallo\", \"Giallo\"],\n",
    "    \"Forma\": [\"Tonda\", \"Allungata\", \"Tonda\", \"Tonda\", \"Allungata\", \"Allungata\", \"Allungata\", \"Tonda\", \"Tonda\", \"Allungata\"],\n",
    "    \"Frutto\": [\"Mela\", \"Banana\", \"Mela\", \"Mela\", \"Banana\", \"Mela\", \"Banana\", \"Mela\", \"Mela\", \"Banana\"]\n",
    "}\n",
    "\n",
    "# 3. Convertiamo il dizionario in un DataFrame di Pandas\n",
    "df = pd.DataFrame(data)\n",
    "\n",
    "# 4. Convertiamo le colonne testuali (Colore e Forma) in numeriche usando il metodo get_dummies (dummy encoding)\n",
    "df_encoded = pd.get_dummies(df, columns=[\"Colore\", \"Forma\"])\n",
    "\n",
    "# Visualizziamo il dataset\n",
    "print(\"Il dataset dei frutti:\\n\", df)"
   ]
  },
  {
   "cell_type": "code",
   "execution_count": 16,
   "metadata": {},
   "outputs": [],
   "source": [
    "X = df_encoded.drop(\"Frutto\", axis=1)\n",
    "y = df[\"Frutto\"]"
   ]
  },
  {
   "cell_type": "code",
   "execution_count": 17,
   "metadata": {},
   "outputs": [
    {
     "name": "stdout",
     "output_type": "stream",
     "text": [
      "\n",
      "Dimensioni X_train: (8, 4)\n",
      "Dimensioni X_test: (2, 4)\n",
      "Dimensioni y_train: (8,)\n",
      "Dimensioni y_test: (2,)\n"
     ]
    }
   ],
   "source": [
    "X_train, X_test, y_train, y_test = train_test_split(X,y,test_size=0.2,random_state=42)\n",
    "# 6. Mostriamo le dimensioni dei dati\n",
    "print(f\"\\nDimensioni X_train: {X_train.shape}\")\n",
    "print(f\"Dimensioni X_test: {X_test.shape}\")\n",
    "print(f\"Dimensioni y_train: {y_train.shape}\")\n",
    "print(f\"Dimensioni y_test: {y_test.shape}\")"
   ]
  },
  {
   "cell_type": "code",
   "execution_count": 18,
   "metadata": {},
   "outputs": [
    {
     "name": "stdout",
     "output_type": "stream",
     "text": [
      "\n",
      "Dati di training (X_train):\n",
      "    Colore_Giallo  Colore_Rosso  Forma_Allungata  Forma_Tonda\n",
      "5          False          True             True        False\n",
      "0          False          True            False         True\n",
      "7          False          True            False         True\n",
      "2          False          True            False         True\n",
      "9           True         False             True        False\n",
      "4           True         False             True        False\n",
      "3           True         False            False         True\n",
      "6           True         False             True        False\n",
      "\n",
      "Target di training (y_train):\n",
      " 5      Mela\n",
      "0      Mela\n",
      "7      Mela\n",
      "2      Mela\n",
      "9    Banana\n",
      "4    Banana\n",
      "3      Mela\n",
      "6    Banana\n",
      "Name: Frutto, dtype: object\n"
     ]
    }
   ],
   "source": [
    "# 7. Stampiamo i dati di training e test\n",
    "print(\"\\nDati di training (X_train):\\n\", X_train)\n",
    "print(\"\\nTarget di training (y_train):\\n\", y_train)\n"
   ]
  },
  {
   "cell_type": "code",
   "execution_count": 19,
   "metadata": {},
   "outputs": [
    {
     "name": "stdout",
     "output_type": "stream",
     "text": [
      "\n",
      "Dati di test (X_test):\n",
      "    Colore_Giallo  Colore_Rosso  Forma_Allungata  Forma_Tonda\n",
      "8           True         False            False         True\n",
      "1           True         False             True        False\n",
      "\n",
      "Target di test (y_test):\n",
      " 8      Mela\n",
      "1    Banana\n",
      "Name: Frutto, dtype: object\n"
     ]
    }
   ],
   "source": [
    "print(\"\\nDati di test (X_test):\\n\", X_test)\n",
    "print(\"\\nTarget di test (y_test):\\n\", y_test)"
   ]
  },
  {
   "cell_type": "code",
   "execution_count": 20,
   "metadata": {},
   "outputs": [
    {
     "name": "stdout",
     "output_type": "stream",
     "text": [
      "Accuratezza del modello: 100.00%\n"
     ]
    }
   ],
   "source": [
    "from sklearn.ensemble import RandomForestClassifier\n",
    "from sklearn.metrics import accuracy_score, classification_report, confusion_matrix\n",
    "\n",
    "clf = RandomForestClassifier()\n",
    "# 8. Addestriamo il modello (fit)\n",
    "clf.fit(X_train,y_train)\n",
    "# 9. Usiamo il modello per fare predizioni sul test set\n",
    "y_preds = clf.predict(X_test)\n",
    "\n",
    "# 10. Valutiamo il modello\n",
    "accuracy = accuracy_score(y_test, y_preds)\n",
    "print(f\"Accuratezza del modello: {accuracy * 100:.2f}%\")"
   ]
  },
  {
   "cell_type": "code",
   "execution_count": 21,
   "metadata": {},
   "outputs": [
    {
     "name": "stdout",
     "output_type": "stream",
     "text": [
      "\n",
      "Classification Report:\n",
      "              precision    recall  f1-score   support\n",
      "\n",
      "      Banana       1.00      1.00      1.00         1\n",
      "        Mela       1.00      1.00      1.00         1\n",
      "\n",
      "    accuracy                           1.00         2\n",
      "   macro avg       1.00      1.00      1.00         2\n",
      "weighted avg       1.00      1.00      1.00         2\n",
      "\n"
     ]
    }
   ],
   "source": [
    "# Report di classificazione\n",
    "print(\"\\nClassification Report:\")\n",
    "print(classification_report(y_test, y_preds))"
   ]
  },
  {
   "cell_type": "code",
   "execution_count": 22,
   "metadata": {},
   "outputs": [
    {
     "name": "stdout",
     "output_type": "stream",
     "text": [
      "Matrice di confusione:\n",
      "[[1 0]\n",
      " [0 1]]\n"
     ]
    }
   ],
   "source": [
    "# Matrice di confusione\n",
    "print(\"Matrice di confusione:\")\n",
    "print(confusion_matrix(y_test, y_preds))"
   ]
  },
  {
   "cell_type": "code",
   "execution_count": 25,
   "metadata": {},
   "outputs": [
    {
     "name": "stdout",
     "output_type": "stream",
     "text": [
      "Il frutto tondo e rosso è: Mela\n"
     ]
    }
   ],
   "source": [
    "nuovo_frutto = pd.DataFrame(\n",
    "    {\n",
    "        \"Colore_Giallo\": [0],\n",
    "        \"Colore_Rosso\": [1],\n",
    "        \"Forma_Allungata\": [0],\n",
    "        \"Forma_Tonda\": [1],\n",
    "    }\n",
    ")\n",
    "predizione = clf.predict(nuovo_frutto)\n",
    "print(f\"Il frutto tondo e rosso è: {predizione[0]}\")"
   ]
  },
  {
   "cell_type": "code",
   "execution_count": 31,
   "metadata": {},
   "outputs": [
    {
     "name": "stdout",
     "output_type": "stream",
     "text": [
      "Il frutto allungato e giallo è: Mela\n"
     ]
    }
   ],
   "source": [
    "# Testiamo un frutto allungato e giallo (probabilmente una banana)\n",
    "nuovo_frutto = pd.DataFrame(\n",
    "    {\n",
    "        \"Colore_Giallo\": [1],  # È giallo\n",
    "        \"Colore_Rosso\": [0],  # Non è rosso\n",
    "        \"Forma_Allungata\": [1],  # È allungato\n",
    "        \"Forma_Tonda\": [0],  # Non è tondo\n",
    "    }\n",
    ")\n",
    "\n",
    "# Facciamo la predizione\n",
    "predizione = clf.predict(nuovo_frutto)\n",
    "print(f\"Il frutto allungato e giallo è: {predizione[0]}\")"
   ]
  },
  {
   "cell_type": "code",
   "execution_count": null,
   "metadata": {},
   "outputs": [],
   "source": []
  }
 ],
 "metadata": {
  "kernelspec": {
   "display_name": "Python 3",
   "language": "python",
   "name": "python3"
  },
  "language_info": {
   "codemirror_mode": {
    "name": "ipython",
    "version": 3
   },
   "file_extension": ".py",
   "mimetype": "text/x-python",
   "name": "python",
   "nbconvert_exporter": "python",
   "pygments_lexer": "ipython3",
   "version": "3.12.4"
  }
 },
 "nbformat": 4,
 "nbformat_minor": 2
}
