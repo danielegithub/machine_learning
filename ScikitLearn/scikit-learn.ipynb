{
 "cells": [
  {
   "cell_type": "markdown",
   "metadata": {},
   "source": [
    "# Riassunto:\n",
    "- X sono i dati senza la colonna target, e y è la colonna target (quello che vogliamo predire).\n",
    "-  Dividiamo i dati in training set (per addestrare il modello) e test set (per testare -  quanto il modello è bravo).\n",
    "- Alleniamo il modello con fit.\n",
    "- Facciamo previsioni con predict.\n",
    "- Valutiamo quanto bene il modello ha imparato con score."
   ]
  },
  {
   "cell_type": "code",
   "execution_count": 2,
   "metadata": {},
   "outputs": [
    {
     "data": {
      "text/plain": [
       "0.7868852459016393"
      ]
     },
     "execution_count": 2,
     "metadata": {},
     "output_type": "execute_result"
    }
   ],
   "source": [
    "import pandas as pd\n",
    "import numpy as np\n",
    "heart_disease = pd.read_csv(\"heart-disease.csv\")\n",
    "heart_disease.head()\n",
    "\n",
    "# Tolgo la colonna X perchè alla fine voglio far impare\n",
    "# a predire il target, ovvero se ha o meno una malattia cardiaca\n",
    "X = heart_disease.drop(\"target\", axis=1)\n",
    "\n",
    "\n",
    "y = heart_disease[\"target\"]\n",
    "\n",
    "\n",
    "# 3. Si sceglie un algoritmo di classificazione\n",
    "from sklearn.ensemble import RandomForestClassifier\n",
    "\n",
    "clf = RandomForestClassifier()\n",
    "clf.get_params()\n",
    "\n",
    "# 3. Si adatta il modelli ai dati di test\n",
    "# cioè su quali dati voglio addestrarlo, avrò un 80% per addestrare\n",
    "# e quindi il 20% usato per testarlo\n",
    "from sklearn.model_selection import train_test_split\n",
    "X_train, X_test, y_train, y_test = train_test_split(X,y,test_size=0.2)\n",
    "\n",
    "# fit significa : Fai imparare il modello\n",
    "clf.fit(X_train, y_train)\n",
    "\n",
    "# Poi lo usiamo per fare predizioni, cioè per capire se funziona\n",
    "y_preds = clf.predict(X_test)\n",
    "\n",
    "clf.score(X_train, y_train) # Vediamo l'accuratezza sul set di addestramento\n",
    "clf.score(X_test, y_test)  # Vediamo l'accuratezza sul set di test"
   ]
  },
  {
   "cell_type": "code",
   "execution_count": 3,
   "metadata": {},
   "outputs": [
    {
     "name": "stdout",
     "output_type": "stream",
     "text": [
      "              precision    recall  f1-score   support\n",
      "\n",
      "           0       0.76      0.73      0.75        26\n",
      "           1       0.81      0.83      0.82        35\n",
      "\n",
      "    accuracy                           0.79        61\n",
      "   macro avg       0.78      0.78      0.78        61\n",
      "weighted avg       0.79      0.79      0.79        61\n",
      "\n"
     ]
    }
   ],
   "source": [
    "from sklearn.metrics import classification_report, confusion_matrix, accuracy_score\n",
    "\n",
    "print(classification_report(y_test, y_preds))"
   ]
  },
  {
   "cell_type": "code",
   "execution_count": 4,
   "metadata": {},
   "outputs": [
    {
     "data": {
      "text/plain": [
       "array([[19,  7],\n",
       "       [ 6, 29]], dtype=int64)"
      ]
     },
     "execution_count": 4,
     "metadata": {},
     "output_type": "execute_result"
    }
   ],
   "source": [
    "confusion_matrix(y_test, y_preds)"
   ]
  },
  {
   "cell_type": "code",
   "execution_count": 5,
   "metadata": {},
   "outputs": [
    {
     "data": {
      "text/plain": [
       "0.7868852459016393"
      ]
     },
     "execution_count": 5,
     "metadata": {},
     "output_type": "execute_result"
    }
   ],
   "source": [
    "accuracy_score(y_test, y_preds)"
   ]
  },
  {
   "cell_type": "code",
   "execution_count": 6,
   "metadata": {},
   "outputs": [
    {
     "name": "stdout",
     "output_type": "stream",
     "text": [
      "Trying moel with 10 estimators...\n",
      "Model accurancy on test set: 75.41%\n",
      "\n",
      "Trying moel with 20 estimators...\n",
      "Model accurancy on test set: 77.05%\n",
      "\n",
      "Trying moel with 30 estimators...\n",
      "Model accurancy on test set: 78.69%\n",
      "\n",
      "Trying moel with 40 estimators...\n",
      "Model accurancy on test set: 75.41%\n",
      "\n",
      "Trying moel with 50 estimators...\n",
      "Model accurancy on test set: 78.69%\n",
      "\n",
      "Trying moel with 60 estimators...\n",
      "Model accurancy on test set: 77.05%\n",
      "\n",
      "Trying moel with 70 estimators...\n",
      "Model accurancy on test set: 80.33%\n",
      "\n",
      "Trying moel with 80 estimators...\n",
      "Model accurancy on test set: 80.33%\n",
      "\n",
      "Trying moel with 90 estimators...\n",
      "Model accurancy on test set: 80.33%\n",
      "\n"
     ]
    }
   ],
   "source": [
    "np.random.seed(42)\n",
    "for i in range(10,100,10):\n",
    "    print(f\"Trying moel with {i} estimators...\")\n",
    "    clf = RandomForestClassifier(n_estimators=i).fit(X_train, y_train)\n",
    "    print(f\"Model accurancy on test set: {clf.score(X_test,y_test) * 100:.2f}%\")\n",
    "    print(\"\")"
   ]
  },
  {
   "cell_type": "markdown",
   "metadata": {},
   "source": [
    "### Un modo semplice per verificare è controllare la dimensione dei dati dopo lo split. \n",
    "- Prova a stampare la dimensione di X_train, X_test, y_train e y_test:\n"
   ]
  },
  {
   "cell_type": "code",
   "execution_count": 8,
   "metadata": {},
   "outputs": [
    {
     "name": "stdout",
     "output_type": "stream",
     "text": [
      "Dimensioni X_train: (242, 13)\n",
      "Dimensioni X_test: (61, 13)\n",
      "Dimensioni y_train: (242,)\n",
      "Dimensioni y_test: (61,)\n"
     ]
    }
   ],
   "source": [
    "print(f\"Dimensioni X_train: {X_train.shape}\")\n",
    "print(f\"Dimensioni X_test: {X_test.shape}\")\n",
    "print(f\"Dimensioni y_train: {y_train.shape}\")\n",
    "print(f\"Dimensioni y_test: {y_test.shape}\")"
   ]
  },
  {
   "cell_type": "code",
   "execution_count": 28,
   "metadata": {},
   "outputs": [],
   "source": [
    "# 6. Salvo il modello per poterlo poi ricaricare\n",
    "import pickle\n",
    "pickle.dump(clf,open(\"random_forest_model_1.pk1\",\"wb\"))"
   ]
  },
  {
   "cell_type": "code",
   "execution_count": 29,
   "metadata": {},
   "outputs": [
    {
     "data": {
      "text/plain": [
       "0.8360655737704918"
      ]
     },
     "execution_count": 29,
     "metadata": {},
     "output_type": "execute_result"
    }
   ],
   "source": [
    "loaded_model = pickle.load(open(\"random_forest_model_1.pk1\",\"rb\"))\n",
    "loaded_model.score(X_test,y_test)"
   ]
  },
  {
   "cell_type": "code",
   "execution_count": null,
   "metadata": {},
   "outputs": [],
   "source": []
  }
 ],
 "metadata": {
  "kernelspec": {
   "display_name": "Python 3",
   "language": "python",
   "name": "python3"
  },
  "language_info": {
   "codemirror_mode": {
    "name": "ipython",
    "version": 3
   },
   "file_extension": ".py",
   "mimetype": "text/x-python",
   "name": "python",
   "nbconvert_exporter": "python",
   "pygments_lexer": "ipython3",
   "version": "3.12.4"
  }
 },
 "nbformat": 4,
 "nbformat_minor": 2
}
